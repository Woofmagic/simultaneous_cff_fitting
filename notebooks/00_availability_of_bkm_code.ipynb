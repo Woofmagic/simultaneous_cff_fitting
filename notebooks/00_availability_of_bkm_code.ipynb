{
 "cells": [
  {
   "cell_type": "markdown",
   "metadata": {},
   "source": [
    "# Availability of BKM10 Code:\n",
    "\n",
    "One of the things we need to be able to use is the library that provides the BKM10 formalism as Python code."
   ]
  },
  {
   "cell_type": "markdown",
   "metadata": {},
   "source": [
    "## (#1): Can we import the associated library?\n",
    "\n",
    "The library is hosted on PyPI at [this link](https://pypi.org/project/bkm10/)."
   ]
  },
  {
   "cell_type": "code",
   "execution_count": 2,
   "metadata": {},
   "outputs": [],
   "source": [
    "import bkm10_lib"
   ]
  },
  {
   "cell_type": "markdown",
   "metadata": {},
   "source": [
    "That is frankly good enough for the moment. HAHAH. We needed to see if the Jupyter interface had access to this library. \n",
    "\n",
    "There already exist some examples [here](https://github.com/Woofmagic/bkm10_lib/tree/main/examples), so we will return to using them in a Jupyter notebook soon."
   ]
  },
  {
   "cell_type": "markdown",
   "metadata": {},
   "source": []
  }
 ],
 "metadata": {
  "kernelspec": {
   "display_name": "Python 3",
   "language": "python",
   "name": "python3"
  },
  "language_info": {
   "codemirror_mode": {
    "name": "ipython",
    "version": 3
   },
   "file_extension": ".py",
   "mimetype": "text/x-python",
   "name": "python",
   "nbconvert_exporter": "python",
   "pygments_lexer": "ipython3",
   "version": "3.10.12"
  }
 },
 "nbformat": 4,
 "nbformat_minor": 2
}
